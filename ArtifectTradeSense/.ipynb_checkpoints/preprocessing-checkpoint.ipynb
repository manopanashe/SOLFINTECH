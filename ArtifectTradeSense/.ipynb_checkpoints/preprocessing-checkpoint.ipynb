{
 "cells": [
  {
   "cell_type": "code",
   "execution_count": 1,
   "metadata": {
    "collapsed": true
   },
   "outputs": [],
   "source": [
    "import pandas as pd\n",
    "import yfinance as yf"
   ]
  },
  {
   "cell_type": "code",
   "execution_count": 2,
   "metadata": {},
   "outputs": [],
   "source": [
    "tickers = pd.read_html('https://en.wikipedia.org/wiki/List_of_S%26P_500_companies')[0]"
   ]
  },
  {
   "cell_type": "code",
   "execution_count": 7,
   "metadata": {},
   "outputs": [
    {
     "name": "stdout",
     "output_type": "stream",
     "text": [
      "(503, 9)\n"
     ]
    },
    {
     "data": {
      "text/plain": [
       "<bound method NDFrame.head of     Symbol              Security SEC filings             GICS Sector  \\\n",
       "0      MMM                    3M     reports             Industrials   \n",
       "1      AOS           A. O. Smith     reports             Industrials   \n",
       "2      ABT                Abbott     reports             Health Care   \n",
       "3     ABBV                AbbVie     reports             Health Care   \n",
       "4      ACN             Accenture     reports  Information Technology   \n",
       "..     ...                   ...         ...                     ...   \n",
       "498    YUM           Yum! Brands     reports  Consumer Discretionary   \n",
       "499   ZBRA    Zebra Technologies     reports  Information Technology   \n",
       "500    ZBH         Zimmer Biomet     reports             Health Care   \n",
       "501   ZION  Zions Bancorporation     reports              Financials   \n",
       "502    ZTS                Zoetis     reports             Health Care   \n",
       "\n",
       "                      GICS Sub-Industry    Headquarters Location  \\\n",
       "0              Industrial Conglomerates    Saint Paul, Minnesota   \n",
       "1                     Building Products     Milwaukee, Wisconsin   \n",
       "2                 Health Care Equipment  North Chicago, Illinois   \n",
       "3                       Pharmaceuticals  North Chicago, Illinois   \n",
       "4        IT Consulting & Other Services          Dublin, Ireland   \n",
       "..                                  ...                      ...   \n",
       "498                         Restaurants     Louisville, Kentucky   \n",
       "499  Electronic Equipment & Instruments   Lincolnshire, Illinois   \n",
       "500               Health Care Equipment          Warsaw, Indiana   \n",
       "501                      Regional Banks     Salt Lake City, Utah   \n",
       "502                     Pharmaceuticals   Parsippany, New Jersey   \n",
       "\n",
       "    Date first added      CIK      Founded  \n",
       "0         1976-08-09    66740         1902  \n",
       "1         2017-07-26    91142         1916  \n",
       "2         1964-03-31     1800         1888  \n",
       "3         2012-12-31  1551152  2013 (1888)  \n",
       "4         2011-07-06  1467373         1989  \n",
       "..               ...      ...          ...  \n",
       "498       1997-10-06  1041061         1997  \n",
       "499       2019-12-23   877212         1969  \n",
       "500       2001-08-07  1136869         1927  \n",
       "501       2001-06-22   109380         1873  \n",
       "502       2013-06-21  1555280         1952  \n",
       "\n",
       "[503 rows x 9 columns]>"
      ]
     },
     "execution_count": 7,
     "metadata": {},
     "output_type": "execute_result"
    }
   ],
   "source": [
    "print(tickers.shape)\n",
    "tickers.head"
   ]
  },
  {
   "cell_type": "code",
   "execution_count": null,
   "metadata": {},
   "outputs": [],
   "source": []
  }
 ],
 "metadata": {
  "kernelspec": {
   "display_name": "Python 3 (ipykernel)",
   "language": "python",
   "name": "python3"
  },
  "language_info": {
   "codemirror_mode": {
    "name": "ipython",
    "version": 3
   },
   "file_extension": ".py",
   "mimetype": "text/x-python",
   "name": "python",
   "nbconvert_exporter": "python",
   "pygments_lexer": "ipython3",
   "version": "3.10.7"
  }
 },
 "nbformat": 4,
 "nbformat_minor": 1
}
